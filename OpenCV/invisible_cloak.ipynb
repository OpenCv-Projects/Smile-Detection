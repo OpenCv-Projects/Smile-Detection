{
 "cells": [
  {
   "cell_type": "code",
   "execution_count": null,
   "metadata": {
    "colab": {
     "base_uri": "https://localhost:8080/",
     "height": 36
    },
    "colab_type": "code",
    "id": "S0sIrTlc3jIP",
    "outputId": "6a40f6f6-e0ea-4263-aafc-f62cb27a7875"
   },
   "outputs": [],
   "source": [
    "import cv2\n",
    "\n",
    "cv2.__version__"
   ]
  },
  {
   "cell_type": "code",
   "execution_count": null,
   "metadata": {},
   "outputs": [],
   "source": [
    "!pip install cv2"
   ]
  },
  {
   "cell_type": "code",
   "execution_count": null,
   "metadata": {},
   "outputs": [],
   "source": []
  },
  {
   "cell_type": "code",
   "execution_count": null,
   "metadata": {},
   "outputs": [],
   "source": []
  },
  {
   "cell_type": "code",
   "execution_count": null,
   "metadata": {
    "colab": {},
    "colab_type": "code",
    "id": "CKDepst7PqPO"
   },
   "outputs": [],
   "source": [
    "from IPython.display import VimeoVideo\n",
    "from IPython.display import HTML\n",
    "\n",
    "x=HTML(\"\"\"\n",
    "    <video alt=\"test\" controls>\n",
    "        <source src=\"output.avi\" type=\"video/avi\">\n",
    "    </video>\n",
    "\"\"\")\n",
    "# VimeoVideo(\"test.mp4\")\n",
    "\n",
    "# try:\n",
    "#   filename = take_photo()\n",
    "#   print('Saved to {}'.format(filename))\n",
    "  \n",
    "#   # Show the image which was just taken.\n",
    "#   display(Image(filename))\n",
    "# except Exception as err:\n",
    "#   # Errors will be thrown if the user does not have a webcam or if they do not\n",
    "#   # grant the page permission to access it.\n",
    "#   print(str(err))"
   ]
  },
  {
   "cell_type": "code",
   "execution_count": 1,
   "metadata": {
    "colab": {
     "base_uri": "https://localhost:8080/",
     "height": 236
    },
    "colab_type": "code",
    "id": "bvk1hQ8X3m6s",
    "outputId": "82480dc9-e236-40c1-e539-9e1dad11e6d1"
   },
   "outputs": [],
   "source": [
    "import numpy as np\n",
    "import cv2\n",
    "import time\n",
    "from IPython.display import HTML\n",
    "\n",
    "\n",
    "cam=cv2.VideoCapture(0)\n",
    "fourcc = cv2.VideoWriter_fourcc(*'XVID')\n",
    "out = cv2.VideoWriter('output.avi',fourcc,20.0, (640,480))\n",
    "time.sleep(3)\n",
    "background = 0 #capturing background\n",
    "for i in range(30):\n",
    "    ret, background = cam.read() #capturing image\n",
    "    # background = np.flip(background,axis=[1])\n",
    "while(cam.isOpened()):\n",
    "    ret, img = cam.read()\n",
    "    \n",
    "    if not ret:\n",
    "      break\n",
    "    img = np.flip(img,axis=1)    \n",
    "    hsv=cv2.cvtColor(img, cv2.COLOR_BGR2HSV)\n",
    "    lower_red = np.array([0,120,70])\n",
    "    upper_red = np.array([10,255,255])\n",
    "    mask1 = cv2.inRange(hsv , lower_red , upper_red)\n",
    "    \n",
    "    lower_red = np.array([170,120,70])\n",
    "    upper_red = np.array([180,255,255])\n",
    "    mask2 = cv2.inRange(hsv , lower_red , upper_red)\n",
    "    \n",
    "    mask1 = mask1 + mask2 #OR\n",
    "    mask1=cv2.morphologyEx(mask1, cv2.MORPH_OPEN ,np.ones((3,3) , np.uint8) , iterations=2)\n",
    "        \n",
    "    mask2=cv2.morphologyEx(mask1, cv2.MORPH_DILATE ,np.ones((3,3) , np.uint8) , iterations=1)\n",
    "        \n",
    "    mask2 = cv2.bitwise_not(mask1)\n",
    "    \n",
    "    res1 = cv2.bitwise_and(background, background, mask=mask1)\n",
    "    res2 = cv2.bitwise_and(img, img, mask=mask2)\n",
    "    \n",
    "    final_output = cv2.addWeighted(res1 , 1, res2 , 1, 0)\n",
    "    \n",
    "    cv2.imshow('Invisible cloak' , final_output)\n",
    "    k=cv2.waitKey(500)\n",
    "    if k==27:\n",
    "        break\n",
    "\n",
    "cv2.destroyAllWindows()   \n",
    "cam.release()\n",
    "     \n",
    "        \n"
   ]
  },
  {
   "cell_type": "code",
   "execution_count": 1,
   "metadata": {
    "colab": {
     "base_uri": "https://localhost:8080/",
     "height": 417
    },
    "colab_type": "code",
    "id": "GHqqHMzi55U6",
    "outputId": "02272790-b0ed-4cf5-d9d5-6aa93e3eae22"
   },
   "outputs": [
    {
     "ename": "KeyboardInterrupt",
     "evalue": "",
     "output_type": "error",
     "traceback": [
      "\u001b[0;31m---------------------------------------------------------------------------\u001b[0m",
      "\u001b[0;31mKeyboardInterrupt\u001b[0m                         Traceback (most recent call last)",
      "\u001b[0;32m<ipython-input-1-bd4438e62efa>\u001b[0m in \u001b[0;36m<module>\u001b[0;34m\u001b[0m\n\u001b[1;32m     20\u001b[0m \u001b[0;34m\u001b[0m\u001b[0m\n\u001b[1;32m     21\u001b[0m     \u001b[0;31m# Converting image to HSV color space.\u001b[0m\u001b[0;34m\u001b[0m\u001b[0;34m\u001b[0m\u001b[0;34m\u001b[0m\u001b[0m\n\u001b[0;32m---> 22\u001b[0;31m     \u001b[0mhsv\u001b[0m \u001b[0;34m=\u001b[0m \u001b[0mcv2\u001b[0m\u001b[0;34m.\u001b[0m\u001b[0mcvtColor\u001b[0m\u001b[0;34m(\u001b[0m\u001b[0mimg\u001b[0m\u001b[0;34m,\u001b[0m \u001b[0mcv2\u001b[0m\u001b[0;34m.\u001b[0m\u001b[0mCOLOR_BGR2HSV\u001b[0m\u001b[0;34m)\u001b[0m\u001b[0;34m\u001b[0m\u001b[0;34m\u001b[0m\u001b[0m\n\u001b[0m\u001b[1;32m     23\u001b[0m     \u001b[0mvalue\u001b[0m \u001b[0;34m=\u001b[0m \u001b[0;34m(\u001b[0m\u001b[0;36m35\u001b[0m\u001b[0;34m,\u001b[0m \u001b[0;36m35\u001b[0m\u001b[0;34m)\u001b[0m\u001b[0;34m\u001b[0m\u001b[0;34m\u001b[0m\u001b[0m\n\u001b[1;32m     24\u001b[0m \u001b[0;34m\u001b[0m\u001b[0m\n",
      "\u001b[0;31mKeyboardInterrupt\u001b[0m: "
     ]
    }
   ],
   "source": [
    "import numpy as np\n",
    "import cv2\n",
    "import time\n",
    "from IPython.display import HTML\n",
    "\n",
    "cam = cv2.VideoCapture(0)\n",
    "time.sleep(3)\n",
    "background=0\n",
    "for i in range(30):\n",
    "\tret,background = cam.read()\n",
    "\n",
    "background = np.flip(background,axis=1)\n",
    "\n",
    "while(cam.isOpened()):\n",
    "#     try:\n",
    "    ret, img = cam.read()\n",
    "\n",
    "    # Flipping the image (Can be uncommented if needed)\n",
    "    img = np.flip(img,axis=1)\n",
    "\n",
    "    # Converting image to HSV color space.\n",
    "    hsv = cv2.cvtColor(img, cv2.COLOR_BGR2HSV)\n",
    "    value = (35, 35)\n",
    "\n",
    "    blurred = cv2.GaussianBlur(hsv, value,0)\n",
    "\n",
    "    # Defining lower range for red color detection.\n",
    "    lower_red = np.array([0,120,70])\n",
    "    upper_red = np.array([10,255,255])\n",
    "    mask1 = cv2.inRange(hsv,lower_red,upper_red)\n",
    "\n",
    "    # Defining upper range for red color detection\n",
    "    lower_red = np.array([170,120,70])\n",
    "    upper_red = np.array([180,255,255])\n",
    "    mask2 = cv2.inRange(hsv,lower_red,upper_red)\n",
    "\n",
    "    # Addition of the two masks to generate the final mask.\n",
    "    mask = mask1+mask2\n",
    "    mask = cv2.morphologyEx(mask, cv2.MORPH_OPEN, np.ones((5,5),np.uint8))\n",
    "\n",
    "    # Replacing pixels corresponding to cloak with the background pixels.\n",
    "    img[np.where(mask==255)] = background[np.where(mask==255)]\n",
    "    cv2.imshow('Invisible cloak',img)\n",
    "    k=cv2.waitKey(30)\n",
    "    if k==27:\n",
    "        break\n",
    "\n",
    "cv2.destroyAllWindows()   \n",
    "cam.release()    \n",
    "    \n",
    "    \n",
    "\n",
    "#     except KeyboardInterrupt:\n",
    "#             cam.release()\n",
    "# \tkey = cv2.waitKey(1) & 0xFF\n",
    "# if the q key was pressed, break from the loop\n",
    "# if key == ord(\"q\"):\n",
    "#     break\n",
    "# cv2.destroyWindow('Invisible cloak')        \n",
    "        \n",
    "        \n",
    "# cv2.destroyAllWindows('Invisible cloak' )             \n",
    "# cam.release()\n",
    "                "
   ]
  },
  {
   "cell_type": "code",
   "execution_count": null,
   "metadata": {
    "colab": {},
    "colab_type": "code",
    "id": "dReaMq5O4DQb"
   },
   "outputs": [],
   "source": [
    "cv2.destroyWindow('Invisible cloak')  "
   ]
  },
  {
   "cell_type": "code",
   "execution_count": null,
   "metadata": {},
   "outputs": [],
   "source": []
  }
 ],
 "metadata": {
  "colab": {
   "collapsed_sections": [],
   "name": "invisible_cloak.ipynb",
   "provenance": []
  },
  "kernelspec": {
   "display_name": "Python 3",
   "language": "python",
   "name": "python3"
  },
  "language_info": {
   "codemirror_mode": {
    "name": "ipython",
    "version": 3
   },
   "file_extension": ".py",
   "mimetype": "text/x-python",
   "name": "python",
   "nbconvert_exporter": "python",
   "pygments_lexer": "ipython3",
   "version": "3.8.2"
  }
 },
 "nbformat": 4,
 "nbformat_minor": 4
}
